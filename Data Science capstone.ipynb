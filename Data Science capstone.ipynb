{
 "cells": [
  {
   "cell_type": "markdown",
   "metadata": {},
   "source": [
    "<h1>Data Science Capstone Project</h1>"
   ]
  },
  {
   "cell_type": "markdown",
   "metadata": {},
   "source": [
    "## BUSINESS UNDERSTANDING"
   ]
  },
  {
   "cell_type": "markdown",
   "metadata": {},
   "source": [
    "<p>\n",
    "The Seattle government is going to prevent avoidable car accidents by employing methods that alert drivers, health system, and police to remind them to be more careful in critical situations.\n",
    "    \n",
    "    \n",
    " In most cases, not paying enough attention during driving, abusing drugs and alcohol or driving at very high speed are the main causes of occurring accidents that can be prevented by enacting harsher regulations. Besides these reasons, weather, visibility, or road conditions are also the major uncontrollable factors that can be prevented by revealing hidden patterns in the data and announcing warning to the local government, police and drivers on the targeted roads.\n",
    "    \n",
    "The target audience of the project will be local government, police and car insurance companies. The model and its results are going to provide some advice for the target audience to make insightful decisions for reducing the number of accidents and injuries.\n",
    "</p>"
   ]
  },
  {
   "cell_type": "markdown",
   "metadata": {},
   "source": [
    "<h5> Here we have been given a dataset of all the accidents occured since 2004</h5>"
   ]
  },
  {
   "cell_type": "markdown",
   "metadata": {},
   "source": [
    "<p>With the help of the provided dataset we will try to predict that what are some of the main reasons behind those Severity.\n"
   ]
  },
  {
   "cell_type": "markdown",
   "metadata": {},
   "source": [
    "# Data Analysis"
   ]
  },
  {
   "cell_type": "markdown",
   "metadata": {},
   "source": [
    "### We have used the Seattle Collision dataset."
   ]
  },
  {
   "cell_type": "markdown",
   "metadata": {},
   "source": [
    "<p>Dataset contains several attributes such as:\n",
    "  <ol>\n",
    "      <li>SEVERITYCODE</li>\n",
    "      <li>X</li>\n",
    "      <li>Y</li>\n",
    "      <li>OBJECTID</li>\n",
    "      <li>INCKEY</li>\n",
    "      <li>COLDETKEY</li>\n",
    "      <li>REPORTNO</li>\n",
    "      <li>STATUS</li>\n",
    "      <li>ADDRTYPE</li>\n",
    "      <li>INTKEY</li>\n",
    "      <li>LOCATION</li>\n",
    "      <li>EXCEPTRSNCODE</li>\n",
    "      <li>EXCEPTRSNDESC</li>\n",
    "      <li>SEVERITYCODE.1</li>\n",
    "      <li>SEVERITYDESC</li>\n",
    "      <li>COLLISIONTYPE</li>\n",
    "      <li>PERSONCOUNT</li>\n",
    "      <li>PEDCOUNT</li>\n",
    "      <li>PEDCYLCOUNT</li>\n",
    "      <li>VEHCOUNT</li>\n",
    "      <li>INCDATE</li>\n",
    "      <li>INCDTTM</li>\n",
    "      <li>JUNCTIONTYPE</li>\n",
    "      <li>SDOT_COLCODE</li>\n",
    "      <li>SDOR_COLDESC</li>\n",
    "      <li>INATTENTIONIND</li>\n",
    "      <li>UNDERINFL</li>\n",
    "      <li>WEATHER</li>\n",
    "      <li>ROADCOND</li>\n",
    "      <li>LIGHTCOND</li>\n",
    "      <li>PEDROWNOTGRNT</li>\n",
    "      <li>SDOTCOLUMN</li>\n",
    "      <li>SPEEDING</li>\n",
    "      <li>ST_COLCODE</li>\n",
    "      <li>ST_COLDESC</li>\n",
    "      <li>SEGLANEKEY</li>\n",
    "      <li>CROSSWALKKEY</li>\n",
    "      <li>HITPARKEDCAR</li>\n",
    "      </ol>\n",
    "</p>"
   ]
  },
  {
   "cell_type": "markdown",
   "metadata": {},
   "source": [
    "<p>Our predictor or target variable will be <b>'SEVERITYCODE'</b> because it is used to measure the severity of an accident i.e., 0/1 within the dataset.</p>\n",
    "<ul><li>0 - Property damage only.</li>\n",
    "    <li>1- Severe Injury </li>\n",
    "    </ul>"
   ]
  },
  {
   "cell_type": "markdown",
   "metadata": {},
   "source": [
    "<p>Attributes used to weigh the severity of an accident are <b>' WEATHER '</b>, <b>' ROADCOND '</b>,<b> ' ADDRTYPE ' </b>,<b>'COLLISIONTYPE'</b> and <b>'LIGHTCOND'</b>.</p>"
   ]
  },
  {
   "cell_type": "markdown",
   "metadata": {},
   "source": [
    "<h3>Extract Dataset & Convert</h3>\n",
    "\n",
    "\n",
    "<p>In it's original form, this data is not fit for analysis. For one, there are many columns that we will not use for this model. Also, most of the features are of type object, when they should be numerical type.</p>"
   ]
  },
  {
   "cell_type": "markdown",
   "metadata": {},
   "source": [
    "<h5>Let's import the Data Collision dataset</h5>"
   ]
  },
  {
   "cell_type": "code",
   "execution_count": 1,
   "metadata": {},
   "outputs": [
    {
     "name": "stderr",
     "output_type": "stream",
     "text": [
      "<ipython-input-1-52a0a84a2f07>:11: SettingWithCopyWarning: \n",
      "A value is trying to be set on a copy of a slice from a DataFrame\n",
      "\n",
      "See the caveats in the documentation: https://pandas.pydata.org/pandas-docs/stable/user_guide/indexing.html#returning-a-view-versus-a-copy\n",
      "  cdf.dropna(inplace=True)\n"
     ]
    }
   ],
   "source": [
    "import pandas as pd\n",
    "import numpy as np\n",
    "df=pd.read_csv('https://s3.us.cloud-object-storage.appdomain.cloud/cf-courses-data/CognitiveClass/DP0701EN/version-2/Data-Collisions.csv',low_memory=False)\n",
    "df.head()\n",
    "df.fillna(0)\n",
    "df.columns\n",
    "\n",
    "cdf=df[['SEVERITYCODE','WEATHER','ADDRTYPE','COLLISIONTYPE','JUNCTIONTYPE','ROADCOND', 'LIGHTCOND']]\n",
    "cdf.head()\n",
    "\n",
    "cdf.dropna(inplace=True)"
   ]
  },
  {
   "cell_type": "code",
   "execution_count": 2,
   "metadata": {},
   "outputs": [
    {
     "data": {
      "text/html": [
       "<div>\n",
       "<style scoped>\n",
       "    .dataframe tbody tr th:only-of-type {\n",
       "        vertical-align: middle;\n",
       "    }\n",
       "\n",
       "    .dataframe tbody tr th {\n",
       "        vertical-align: top;\n",
       "    }\n",
       "\n",
       "    .dataframe thead th {\n",
       "        text-align: right;\n",
       "    }\n",
       "</style>\n",
       "<table border=\"1\" class=\"dataframe\">\n",
       "  <thead>\n",
       "    <tr style=\"text-align: right;\">\n",
       "      <th></th>\n",
       "      <th>SEVERITYCODE</th>\n",
       "      <th>WEATHER</th>\n",
       "      <th>ADDRTYPE</th>\n",
       "      <th>COLLISIONTYPE</th>\n",
       "      <th>JUNCTIONTYPE</th>\n",
       "      <th>ROADCOND</th>\n",
       "      <th>LIGHTCOND</th>\n",
       "    </tr>\n",
       "  </thead>\n",
       "  <tbody>\n",
       "    <tr>\n",
       "      <th>0</th>\n",
       "      <td>2</td>\n",
       "      <td>Overcast</td>\n",
       "      <td>Intersection</td>\n",
       "      <td>Angles</td>\n",
       "      <td>At Intersection (intersection related)</td>\n",
       "      <td>Wet</td>\n",
       "      <td>Daylight</td>\n",
       "    </tr>\n",
       "    <tr>\n",
       "      <th>1</th>\n",
       "      <td>1</td>\n",
       "      <td>Raining</td>\n",
       "      <td>Block</td>\n",
       "      <td>Sideswipe</td>\n",
       "      <td>Mid-Block (not related to intersection)</td>\n",
       "      <td>Wet</td>\n",
       "      <td>Dark - Street Lights On</td>\n",
       "    </tr>\n",
       "    <tr>\n",
       "      <th>2</th>\n",
       "      <td>1</td>\n",
       "      <td>Overcast</td>\n",
       "      <td>Block</td>\n",
       "      <td>Parked Car</td>\n",
       "      <td>Mid-Block (not related to intersection)</td>\n",
       "      <td>Dry</td>\n",
       "      <td>Daylight</td>\n",
       "    </tr>\n",
       "    <tr>\n",
       "      <th>3</th>\n",
       "      <td>1</td>\n",
       "      <td>Clear</td>\n",
       "      <td>Block</td>\n",
       "      <td>Other</td>\n",
       "      <td>Mid-Block (not related to intersection)</td>\n",
       "      <td>Dry</td>\n",
       "      <td>Daylight</td>\n",
       "    </tr>\n",
       "    <tr>\n",
       "      <th>4</th>\n",
       "      <td>2</td>\n",
       "      <td>Raining</td>\n",
       "      <td>Intersection</td>\n",
       "      <td>Angles</td>\n",
       "      <td>At Intersection (intersection related)</td>\n",
       "      <td>Wet</td>\n",
       "      <td>Daylight</td>\n",
       "    </tr>\n",
       "  </tbody>\n",
       "</table>\n",
       "</div>"
      ],
      "text/plain": [
       "   SEVERITYCODE   WEATHER      ADDRTYPE COLLISIONTYPE  \\\n",
       "0             2  Overcast  Intersection        Angles   \n",
       "1             1   Raining         Block     Sideswipe   \n",
       "2             1  Overcast         Block    Parked Car   \n",
       "3             1     Clear         Block         Other   \n",
       "4             2   Raining  Intersection        Angles   \n",
       "\n",
       "                              JUNCTIONTYPE ROADCOND                LIGHTCOND  \n",
       "0   At Intersection (intersection related)      Wet                 Daylight  \n",
       "1  Mid-Block (not related to intersection)      Wet  Dark - Street Lights On  \n",
       "2  Mid-Block (not related to intersection)      Dry                 Daylight  \n",
       "3  Mid-Block (not related to intersection)      Dry                 Daylight  \n",
       "4   At Intersection (intersection related)      Wet                 Daylight  "
      ]
     },
     "execution_count": 2,
     "metadata": {},
     "output_type": "execute_result"
    }
   ],
   "source": [
    "cdf.head()"
   ]
  },
  {
   "cell_type": "code",
   "execution_count": 3,
   "metadata": {},
   "outputs": [
    {
     "data": {
      "text/plain": [
       "Parked Car    43119\n",
       "Angles        34453\n",
       "Rear Ended    33641\n",
       "Other         22960\n",
       "Sideswipe     18285\n",
       "Left Turn     13637\n",
       "Pedestrian     6513\n",
       "Cycles         5362\n",
       "Right Turn     2929\n",
       "Head On        1996\n",
       "Name: COLLISIONTYPE, dtype: int64"
      ]
     },
     "execution_count": 3,
     "metadata": {},
     "output_type": "execute_result"
    }
   ],
   "source": [
    "cdf.COLLISIONTYPE.value_counts()"
   ]
  },
  {
   "cell_type": "code",
   "execution_count": 4,
   "metadata": {},
   "outputs": [],
   "source": [
    "import seaborn as sns"
   ]
  },
  {
   "cell_type": "code",
   "execution_count": 5,
   "metadata": {},
   "outputs": [
    {
     "name": "stderr",
     "output_type": "stream",
     "text": [
      "C:\\Users\\Kishu\\anaconda3\\lib\\site-packages\\pandas\\core\\generic.py:5303: SettingWithCopyWarning: \n",
      "A value is trying to be set on a copy of a slice from a DataFrame.\n",
      "Try using .loc[row_indexer,col_indexer] = value instead\n",
      "\n",
      "See the caveats in the documentation: https://pandas.pydata.org/pandas-docs/stable/user_guide/indexing.html#returning-a-view-versus-a-copy\n",
      "  self[name] = value\n"
     ]
    },
    {
     "data": {
      "text/html": [
       "<div>\n",
       "<style scoped>\n",
       "    .dataframe tbody tr th:only-of-type {\n",
       "        vertical-align: middle;\n",
       "    }\n",
       "\n",
       "    .dataframe tbody tr th {\n",
       "        vertical-align: top;\n",
       "    }\n",
       "\n",
       "    .dataframe thead th {\n",
       "        text-align: right;\n",
       "    }\n",
       "</style>\n",
       "<table border=\"1\" class=\"dataframe\">\n",
       "  <thead>\n",
       "    <tr style=\"text-align: right;\">\n",
       "      <th></th>\n",
       "      <th>SEVERITYCODE</th>\n",
       "      <th>WEATHER</th>\n",
       "      <th>ADDRTYPE</th>\n",
       "      <th>COLLISIONTYPE</th>\n",
       "      <th>JUNCTIONTYPE</th>\n",
       "      <th>ROADCOND</th>\n",
       "      <th>LIGHTCOND</th>\n",
       "    </tr>\n",
       "  </thead>\n",
       "  <tbody>\n",
       "    <tr>\n",
       "      <th>0</th>\n",
       "      <td>1</td>\n",
       "      <td>Overcast</td>\n",
       "      <td>Intersection</td>\n",
       "      <td>Angles</td>\n",
       "      <td>At Intersection (intersection related)</td>\n",
       "      <td>Wet</td>\n",
       "      <td>Daylight</td>\n",
       "    </tr>\n",
       "    <tr>\n",
       "      <th>1</th>\n",
       "      <td>0</td>\n",
       "      <td>Raining</td>\n",
       "      <td>Block</td>\n",
       "      <td>Sideswipe</td>\n",
       "      <td>Mid-Block (not related to intersection)</td>\n",
       "      <td>Wet</td>\n",
       "      <td>Dark - Street Lights On</td>\n",
       "    </tr>\n",
       "    <tr>\n",
       "      <th>2</th>\n",
       "      <td>0</td>\n",
       "      <td>Overcast</td>\n",
       "      <td>Block</td>\n",
       "      <td>Parked Car</td>\n",
       "      <td>Mid-Block (not related to intersection)</td>\n",
       "      <td>Dry</td>\n",
       "      <td>Daylight</td>\n",
       "    </tr>\n",
       "    <tr>\n",
       "      <th>3</th>\n",
       "      <td>0</td>\n",
       "      <td>Clear</td>\n",
       "      <td>Block</td>\n",
       "      <td>Other</td>\n",
       "      <td>Mid-Block (not related to intersection)</td>\n",
       "      <td>Dry</td>\n",
       "      <td>Daylight</td>\n",
       "    </tr>\n",
       "    <tr>\n",
       "      <th>4</th>\n",
       "      <td>1</td>\n",
       "      <td>Raining</td>\n",
       "      <td>Intersection</td>\n",
       "      <td>Angles</td>\n",
       "      <td>At Intersection (intersection related)</td>\n",
       "      <td>Wet</td>\n",
       "      <td>Daylight</td>\n",
       "    </tr>\n",
       "  </tbody>\n",
       "</table>\n",
       "</div>"
      ],
      "text/plain": [
       "   SEVERITYCODE   WEATHER      ADDRTYPE COLLISIONTYPE  \\\n",
       "0             1  Overcast  Intersection        Angles   \n",
       "1             0   Raining         Block     Sideswipe   \n",
       "2             0  Overcast         Block    Parked Car   \n",
       "3             0     Clear         Block         Other   \n",
       "4             1   Raining  Intersection        Angles   \n",
       "\n",
       "                              JUNCTIONTYPE ROADCOND                LIGHTCOND  \n",
       "0   At Intersection (intersection related)      Wet                 Daylight  \n",
       "1  Mid-Block (not related to intersection)      Wet  Dark - Street Lights On  \n",
       "2  Mid-Block (not related to intersection)      Dry                 Daylight  \n",
       "3  Mid-Block (not related to intersection)      Dry                 Daylight  \n",
       "4   At Intersection (intersection related)      Wet                 Daylight  "
      ]
     },
     "execution_count": 5,
     "metadata": {},
     "output_type": "execute_result"
    }
   ],
   "source": [
    "cdf.SEVERITYCODE=cdf.SEVERITYCODE.map(lambda SEVERITYCODE:SEVERITYCODE-1)\n",
    "cdf.head()"
   ]
  },
  {
   "cell_type": "code",
   "execution_count": 6,
   "metadata": {},
   "outputs": [],
   "source": [
    "new=cdf[cdf.SEVERITYCODE==1]"
   ]
  },
  {
   "cell_type": "code",
   "execution_count": 7,
   "metadata": {},
   "outputs": [
    {
     "data": {
      "text/plain": [
       "Block           29252\n",
       "Intersection    27344\n",
       "Alley              29\n",
       "Name: ADDRTYPE, dtype: int64"
      ]
     },
     "execution_count": 7,
     "metadata": {},
     "output_type": "execute_result"
    }
   ],
   "source": [
    "new.ADDRTYPE.value_counts()\n",
    "#From here we can see that severity occurs mostly at Block and Intersection type"
   ]
  },
  {
   "cell_type": "code",
   "execution_count": 8,
   "metadata": {},
   "outputs": [
    {
     "name": "stderr",
     "output_type": "stream",
     "text": [
      "C:\\Users\\Kishu\\anaconda3\\lib\\site-packages\\pandas\\core\\frame.py:3990: SettingWithCopyWarning: \n",
      "A value is trying to be set on a copy of a slice from a DataFrame\n",
      "\n",
      "See the caveats in the documentation: https://pandas.pydata.org/pandas-docs/stable/user_guide/indexing.html#returning-a-view-versus-a-copy\n",
      "  return super().drop(\n"
     ]
    }
   ],
   "source": [
    "cdf.drop('JUNCTIONTYPE',axis=1,inplace=True)\n",
    "\n",
    "new.drop(['JUNCTIONTYPE'],axis=1,inplace=True)"
   ]
  },
  {
   "cell_type": "code",
   "execution_count": 9,
   "metadata": {},
   "outputs": [
    {
     "data": {
      "text/plain": [
       "Parked Car    43119\n",
       "Angles        34453\n",
       "Rear Ended    33641\n",
       "Other         22960\n",
       "Sideswipe     18285\n",
       "Left Turn     13637\n",
       "Pedestrian     6513\n",
       "Cycles         5362\n",
       "Right Turn     2929\n",
       "Head On        1996\n",
       "Name: COLLISIONTYPE, dtype: int64"
      ]
     },
     "execution_count": 9,
     "metadata": {},
     "output_type": "execute_result"
    }
   ],
   "source": [
    "cdf.COLLISIONTYPE.value_counts()"
   ]
  },
  {
   "cell_type": "code",
   "execution_count": 10,
   "metadata": {},
   "outputs": [
    {
     "data": {
      "image/png": "[encoded data removed]",
      "text/plain": [
       "<Figure size 432x288 with 1 Axes>"
      ]
     },
     "metadata": {
      "needs_background": "light"
     },
     "output_type": "display_data"
    }
   ],
   "source": [
    "import matplotlib.pyplot as plt\n",
    "%matplotlib inline\n",
    "cdf.plot(kind='hist')\n",
    "plt.xlabel('Severity')\n",
    "plt.ylabel('Frequency')\n",
    "plt.show()"
   ]
  },
  {
   "cell_type": "code",
   "execution_count": 11,
   "metadata": {},
   "outputs": [
    {
     "data": {
      "text/plain": [
       "0    126270\n",
       "1     56625\n",
       "Name: SEVERITYCODE, dtype: int64"
      ]
     },
     "execution_count": 11,
     "metadata": {},
     "output_type": "execute_result"
    }
   ],
   "source": [
    "cdf.SEVERITYCODE.value_counts()"
   ]
  },
  {
   "cell_type": "markdown",
   "metadata": {},
   "source": [
    "<h3>Downsampling the inbalanced data</h3>"
   ]
  },
  {
   "cell_type": "code",
   "execution_count": 12,
   "metadata": {},
   "outputs": [],
   "source": [
    "from sklearn.utils import resample\n",
    "dfmin=cdf[cdf.SEVERITYCODE==1]\n",
    "dfmaj=cdf[cdf.SEVERITYCODE==0]\n",
    "df_maj_down=resample(dfmaj,replace=False,n_samples=56657,random_state=123)\n",
    "df_cust=pd.concat([dfmin,df_maj_down])\n"
   ]
  },
  {
   "cell_type": "code",
   "execution_count": 13,
   "metadata": {},
   "outputs": [
    {
     "data": {
      "image/png": "[encoded data removed]",
      "text/plain": [
       "<Figure size 432x288 with 1 Axes>"
      ]
     },
     "metadata": {
      "needs_background": "light"
     },
     "output_type": "display_data"
    }
   ],
   "source": [
    "df_cust.SEVERITYCODE.plot(kind='hist')\n",
    "plt.xlabel('Severity')\n",
    "plt.ylabel('Frequency')\n",
    "plt.show()"
   ]
  },
  {
   "cell_type": "code",
   "execution_count": 14,
   "metadata": {},
   "outputs": [],
   "source": [
    "df_cust = df_cust.reindex(np.random.permutation(df_cust.index))"
   ]
  },
  {
   "cell_type": "code",
   "execution_count": 15,
   "metadata": {},
   "outputs": [
    {
     "data": {
      "image/png": "[encoded data removed]",
      "text/plain": [
       "<Figure size 432x288 with 1 Axes>"
      ]
     },
     "metadata": {
      "needs_background": "light"
     },
     "output_type": "display_data"
    }
   ],
   "source": [
    "df_cust[df_cust.SEVERITYCODE==1].ROADCOND.value_counts().plot(kind='bar')\n",
    "plt.title('Severe accidents based on road')\n",
    "plt.ylabel('Number of Accidents')\n",
    "plt.xlabel('Road type')\n",
    "plt.show()"
   ]
  },
  {
   "cell_type": "markdown",
   "metadata": {},
   "source": [
    "<h4>It displays that most of the severe accidents occured in dry road</h4>"
   ]
  },
  {
   "cell_type": "code",
   "execution_count": 16,
   "metadata": {},
   "outputs": [
    {
     "data": {
      "image/png": "[encoded data removed]",
      "text/plain": [
       "<Figure size 432x288 with 1 Axes>"
      ]
     },
     "metadata": {
      "needs_background": "light"
     },
     "output_type": "display_data"
    }
   ],
   "source": [
    "df_cust[df_cust.SEVERITYCODE==1].ADDRTYPE.value_counts().plot(kind='bar')\n",
    "plt.title('Severe accidents based on place')\n",
    "plt.ylabel('Number of Accidents')\n",
    "plt.xlabel('Address Type')\n",
    "plt.show()"
   ]
  },
  {
   "cell_type": "code",
   "execution_count": 17,
   "metadata": {},
   "outputs": [
    {
     "data": {
      "image/png": "[encoded data removed]",
      "text/plain": [
       "<Figure size 432x288 with 1 Axes>"
      ]
     },
     "metadata": {
      "needs_background": "light"
     },
     "output_type": "display_data"
    }
   ],
   "source": [
    "df_cust[df_cust.SEVERITYCODE==1].LIGHTCOND.value_counts().plot(kind='bar')\n",
    "plt.title('Severe accidents based on light-conditions')\n",
    "plt.ylabel('Number of Accidents')\n",
    "plt.xlabel('Lights Conditions')\n",
    "plt.show()"
   ]
  },
  {
   "cell_type": "code",
   "execution_count": 18,
   "metadata": {},
   "outputs": [
    {
     "data": {
      "image/png": "[encoded data removed]",
      "text/plain": [
       "<Figure size 432x288 with 1 Axes>"
      ]
     },
     "metadata": {
      "needs_background": "light"
     },
     "output_type": "display_data"
    }
   ],
   "source": [
    "df_cust[df_cust.SEVERITYCODE==1].COLLISIONTYPE.value_counts().plot(kind='bar')\n",
    "plt.title('Severe Accidents based on Collision Type')\n",
    "plt.ylabel('Number of Accidents')\n",
    "plt.xlabel('Collision type')\n",
    "plt.show()"
   ]
  },
  {
   "cell_type": "code",
   "execution_count": 19,
   "metadata": {},
   "outputs": [
    {
     "data": {
      "image/png": "[encoded data removed]",
      "text/plain": [
       "<Figure size 432x288 with 1 Axes>"
      ]
     },
     "metadata": {
      "needs_background": "light"
     },
     "output_type": "display_data"
    }
   ],
   "source": [
    "df_cust[df_cust.SEVERITYCODE==1].WEATHER.value_counts().plot(kind='bar')\n",
    "plt.title('Severe Accident based on Weather')\n",
    "plt.ylabel('Number of Accidents')\n",
    "plt.xlabel('Weather type')\n",
    "plt.show()"
   ]
  },
  {
   "cell_type": "code",
   "execution_count": 20,
   "metadata": {},
   "outputs": [
    {
     "data": {
      "text/plain": [
       "0    56657\n",
       "1    56625\n",
       "Name: SEVERITYCODE, dtype: int64"
      ]
     },
     "execution_count": 20,
     "metadata": {},
     "output_type": "execute_result"
    }
   ],
   "source": [
    "df_cust.SEVERITYCODE.value_counts()"
   ]
  },
  {
   "cell_type": "code",
   "execution_count": 21,
   "metadata": {},
   "outputs": [
    {
     "name": "stdout",
     "output_type": "stream",
     "text": [
      "SEVERITYCODE : 2\n",
      "WEATHER : 11\n",
      "ADDRTYPE : 3\n",
      "COLLISIONTYPE : 10\n",
      "ROADCOND : 9\n",
      "LIGHTCOND : 9\n"
     ]
    }
   ],
   "source": [
    "#no of unique values in each column:\n",
    "for col in df_cust[0:]:\n",
    "    print(col, ':' , len(df_cust[col].unique()))"
   ]
  },
  {
   "cell_type": "markdown",
   "metadata": {},
   "source": [
    "<h3>Count Frequency Encoding</h3>"
   ]
  },
  {
   "cell_type": "code",
   "execution_count": 22,
   "metadata": {},
   "outputs": [],
   "source": [
    "df_collision_freq=df_cust.COLLISIONTYPE.value_counts().to_dict()"
   ]
  },
  {
   "cell_type": "code",
   "execution_count": 23,
   "metadata": {},
   "outputs": [],
   "source": [
    "df_cust.COLLISIONTYPE=df.COLLISIONTYPE.map(df_collision_freq)"
   ]
  },
  {
   "cell_type": "code",
   "execution_count": 24,
   "metadata": {},
   "outputs": [
    {
     "data": {
      "text/html": [
       "<div>\n",
       "<style scoped>\n",
       "    .dataframe tbody tr th:only-of-type {\n",
       "        vertical-align: middle;\n",
       "    }\n",
       "\n",
       "    .dataframe tbody tr th {\n",
       "        vertical-align: top;\n",
       "    }\n",
       "\n",
       "    .dataframe thead th {\n",
       "        text-align: right;\n",
       "    }\n",
       "</style>\n",
       "<table border=\"1\" class=\"dataframe\">\n",
       "  <thead>\n",
       "    <tr style=\"text-align: right;\">\n",
       "      <th></th>\n",
       "      <th>SEVERITYCODE</th>\n",
       "      <th>WEATHER</th>\n",
       "      <th>ADDRTYPE</th>\n",
       "      <th>COLLISIONTYPE</th>\n",
       "      <th>ROADCOND</th>\n",
       "      <th>LIGHTCOND</th>\n",
       "    </tr>\n",
       "  </thead>\n",
       "  <tbody>\n",
       "    <tr>\n",
       "      <th>92223</th>\n",
       "      <td>0</td>\n",
       "      <td>Clear</td>\n",
       "      <td>Block</td>\n",
       "      <td>20719.0</td>\n",
       "      <td>Dry</td>\n",
       "      <td>Daylight</td>\n",
       "    </tr>\n",
       "    <tr>\n",
       "      <th>64078</th>\n",
       "      <td>1</td>\n",
       "      <td>Clear</td>\n",
       "      <td>Block</td>\n",
       "      <td>23041.0</td>\n",
       "      <td>Dry</td>\n",
       "      <td>Daylight</td>\n",
       "    </tr>\n",
       "    <tr>\n",
       "      <th>133642</th>\n",
       "      <td>0</td>\n",
       "      <td>Clear</td>\n",
       "      <td>Intersection</td>\n",
       "      <td>4999.0</td>\n",
       "      <td>Dry</td>\n",
       "      <td>Daylight</td>\n",
       "    </tr>\n",
       "    <tr>\n",
       "      <th>107592</th>\n",
       "      <td>1</td>\n",
       "      <td>Clear</td>\n",
       "      <td>Intersection</td>\n",
       "      <td>4999.0</td>\n",
       "      <td>Dry</td>\n",
       "      <td>Daylight</td>\n",
       "    </tr>\n",
       "    <tr>\n",
       "      <th>7798</th>\n",
       "      <td>0</td>\n",
       "      <td>Clear</td>\n",
       "      <td>Block</td>\n",
       "      <td>20719.0</td>\n",
       "      <td>Dry</td>\n",
       "      <td>Daylight</td>\n",
       "    </tr>\n",
       "  </tbody>\n",
       "</table>\n",
       "</div>"
      ],
      "text/plain": [
       "        SEVERITYCODE WEATHER      ADDRTYPE  COLLISIONTYPE ROADCOND LIGHTCOND\n",
       "92223              0   Clear         Block        20719.0      Dry  Daylight\n",
       "64078              1   Clear         Block        23041.0      Dry  Daylight\n",
       "133642             0   Clear  Intersection         4999.0      Dry  Daylight\n",
       "107592             1   Clear  Intersection         4999.0      Dry  Daylight\n",
       "7798               0   Clear         Block        20719.0      Dry  Daylight"
      ]
     },
     "execution_count": 24,
     "metadata": {},
     "output_type": "execute_result"
    }
   ],
   "source": [
    "df_cust.head(5)"
   ]
  },
  {
   "cell_type": "code",
   "execution_count": 25,
   "metadata": {},
   "outputs": [],
   "source": [
    "df_road_freq=df_cust.ROADCOND.value_counts().to_dict()\n",
    "df_cust.ROADCOND=df.ROADCOND.map(df_road_freq)"
   ]
  },
  {
   "cell_type": "code",
   "execution_count": 26,
   "metadata": {},
   "outputs": [
    {
     "data": {
      "text/html": [
       "<div>\n",
       "<style scoped>\n",
       "    .dataframe tbody tr th:only-of-type {\n",
       "        vertical-align: middle;\n",
       "    }\n",
       "\n",
       "    .dataframe tbody tr th {\n",
       "        vertical-align: top;\n",
       "    }\n",
       "\n",
       "    .dataframe thead th {\n",
       "        text-align: right;\n",
       "    }\n",
       "</style>\n",
       "<table border=\"1\" class=\"dataframe\">\n",
       "  <thead>\n",
       "    <tr style=\"text-align: right;\">\n",
       "      <th></th>\n",
       "      <th>SEVERITYCODE</th>\n",
       "      <th>WEATHER</th>\n",
       "      <th>ADDRTYPE</th>\n",
       "      <th>COLLISIONTYPE</th>\n",
       "      <th>ROADCOND</th>\n",
       "      <th>LIGHTCOND</th>\n",
       "    </tr>\n",
       "  </thead>\n",
       "  <tbody>\n",
       "    <tr>\n",
       "      <th>92223</th>\n",
       "      <td>0</td>\n",
       "      <td>Clear</td>\n",
       "      <td>Block</td>\n",
       "      <td>20719.0</td>\n",
       "      <td>76729.0</td>\n",
       "      <td>Daylight</td>\n",
       "    </tr>\n",
       "    <tr>\n",
       "      <th>64078</th>\n",
       "      <td>1</td>\n",
       "      <td>Clear</td>\n",
       "      <td>Block</td>\n",
       "      <td>23041.0</td>\n",
       "      <td>76729.0</td>\n",
       "      <td>Daylight</td>\n",
       "    </tr>\n",
       "    <tr>\n",
       "      <th>133642</th>\n",
       "      <td>0</td>\n",
       "      <td>Clear</td>\n",
       "      <td>Intersection</td>\n",
       "      <td>4999.0</td>\n",
       "      <td>76729.0</td>\n",
       "      <td>Daylight</td>\n",
       "    </tr>\n",
       "    <tr>\n",
       "      <th>107592</th>\n",
       "      <td>1</td>\n",
       "      <td>Clear</td>\n",
       "      <td>Intersection</td>\n",
       "      <td>4999.0</td>\n",
       "      <td>76729.0</td>\n",
       "      <td>Daylight</td>\n",
       "    </tr>\n",
       "    <tr>\n",
       "      <th>7798</th>\n",
       "      <td>0</td>\n",
       "      <td>Clear</td>\n",
       "      <td>Block</td>\n",
       "      <td>20719.0</td>\n",
       "      <td>76729.0</td>\n",
       "      <td>Daylight</td>\n",
       "    </tr>\n",
       "  </tbody>\n",
       "</table>\n",
       "</div>"
      ],
      "text/plain": [
       "        SEVERITYCODE WEATHER      ADDRTYPE  COLLISIONTYPE  ROADCOND LIGHTCOND\n",
       "92223              0   Clear         Block        20719.0   76729.0  Daylight\n",
       "64078              1   Clear         Block        23041.0   76729.0  Daylight\n",
       "133642             0   Clear  Intersection         4999.0   76729.0  Daylight\n",
       "107592             1   Clear  Intersection         4999.0   76729.0  Daylight\n",
       "7798               0   Clear         Block        20719.0   76729.0  Daylight"
      ]
     },
     "execution_count": 26,
     "metadata": {},
     "output_type": "execute_result"
    }
   ],
   "source": [
    "df_cust.head()"
   ]
  },
  {
   "cell_type": "code",
   "execution_count": 27,
   "metadata": {},
   "outputs": [],
   "source": [
    "df_light_freq=df_cust.LIGHTCOND.value_counts().to_dict()"
   ]
  },
  {
   "cell_type": "code",
   "execution_count": 28,
   "metadata": {},
   "outputs": [],
   "source": [
    "df_cust.LIGHTCOND=df_cust.LIGHTCOND.map(df_light_freq)"
   ]
  },
  {
   "cell_type": "code",
   "execution_count": 29,
   "metadata": {},
   "outputs": [],
   "source": [
    "df_weather_freq=df_cust.WEATHER.value_counts().to_dict()\n",
    "df_cust.WEATHER=df_cust.WEATHER.map(df_weather_freq)"
   ]
  },
  {
   "cell_type": "code",
   "execution_count": 30,
   "metadata": {},
   "outputs": [
    {
     "data": {
      "text/html": [
       "<div>\n",
       "<style scoped>\n",
       "    .dataframe tbody tr th:only-of-type {\n",
       "        vertical-align: middle;\n",
       "    }\n",
       "\n",
       "    .dataframe tbody tr th {\n",
       "        vertical-align: top;\n",
       "    }\n",
       "\n",
       "    .dataframe thead th {\n",
       "        text-align: right;\n",
       "    }\n",
       "</style>\n",
       "<table border=\"1\" class=\"dataframe\">\n",
       "  <thead>\n",
       "    <tr style=\"text-align: right;\">\n",
       "      <th></th>\n",
       "      <th>Alley</th>\n",
       "      <th>Block</th>\n",
       "      <th>Intersection</th>\n",
       "    </tr>\n",
       "  </thead>\n",
       "  <tbody>\n",
       "    <tr>\n",
       "      <th>92223</th>\n",
       "      <td>0</td>\n",
       "      <td>1</td>\n",
       "      <td>0</td>\n",
       "    </tr>\n",
       "    <tr>\n",
       "      <th>64078</th>\n",
       "      <td>0</td>\n",
       "      <td>1</td>\n",
       "      <td>0</td>\n",
       "    </tr>\n",
       "    <tr>\n",
       "      <th>133642</th>\n",
       "      <td>0</td>\n",
       "      <td>0</td>\n",
       "      <td>1</td>\n",
       "    </tr>\n",
       "  </tbody>\n",
       "</table>\n",
       "</div>"
      ],
      "text/plain": [
       "        Alley  Block  Intersection\n",
       "92223       0      1             0\n",
       "64078       0      1             0\n",
       "133642      0      0             1"
      ]
     },
     "execution_count": 30,
     "metadata": {},
     "output_type": "execute_result"
    }
   ],
   "source": [
    "addr_dummy=pd.get_dummies(df_cust.ADDRTYPE)\n",
    "addr_dummy.head(3)\n",
    "\n"
   ]
  },
  {
   "cell_type": "code",
   "execution_count": 31,
   "metadata": {},
   "outputs": [],
   "source": [
    "df_new=df_cust.reset_index()"
   ]
  },
  {
   "cell_type": "code",
   "execution_count": 32,
   "metadata": {},
   "outputs": [],
   "source": [
    "#df_new.drop(['index','level_0'],axis=1,inplace=True)"
   ]
  },
  {
   "cell_type": "code",
   "execution_count": 33,
   "metadata": {},
   "outputs": [
    {
     "data": {
      "text/html": [
       "<div>\n",
       "<style scoped>\n",
       "    .dataframe tbody tr th:only-of-type {\n",
       "        vertical-align: middle;\n",
       "    }\n",
       "\n",
       "    .dataframe tbody tr th {\n",
       "        vertical-align: top;\n",
       "    }\n",
       "\n",
       "    .dataframe thead th {\n",
       "        text-align: right;\n",
       "    }\n",
       "</style>\n",
       "<table border=\"1\" class=\"dataframe\">\n",
       "  <thead>\n",
       "    <tr style=\"text-align: right;\">\n",
       "      <th></th>\n",
       "      <th>index</th>\n",
       "      <th>SEVERITYCODE</th>\n",
       "      <th>WEATHER</th>\n",
       "      <th>ADDRTYPE</th>\n",
       "      <th>COLLISIONTYPE</th>\n",
       "      <th>ROADCOND</th>\n",
       "      <th>LIGHTCOND</th>\n",
       "    </tr>\n",
       "  </thead>\n",
       "  <tbody>\n",
       "    <tr>\n",
       "      <th>0</th>\n",
       "      <td>92223</td>\n",
       "      <td>0</td>\n",
       "      <td>68555</td>\n",
       "      <td>Block</td>\n",
       "      <td>20719.0</td>\n",
       "      <td>76729.0</td>\n",
       "      <td>72061</td>\n",
       "    </tr>\n",
       "    <tr>\n",
       "      <th>1</th>\n",
       "      <td>64078</td>\n",
       "      <td>1</td>\n",
       "      <td>68555</td>\n",
       "      <td>Block</td>\n",
       "      <td>23041.0</td>\n",
       "      <td>76729.0</td>\n",
       "      <td>72061</td>\n",
       "    </tr>\n",
       "    <tr>\n",
       "      <th>2</th>\n",
       "      <td>133642</td>\n",
       "      <td>0</td>\n",
       "      <td>68555</td>\n",
       "      <td>Intersection</td>\n",
       "      <td>4999.0</td>\n",
       "      <td>76729.0</td>\n",
       "      <td>72061</td>\n",
       "    </tr>\n",
       "    <tr>\n",
       "      <th>3</th>\n",
       "      <td>107592</td>\n",
       "      <td>1</td>\n",
       "      <td>68555</td>\n",
       "      <td>Intersection</td>\n",
       "      <td>4999.0</td>\n",
       "      <td>76729.0</td>\n",
       "      <td>72061</td>\n",
       "    </tr>\n",
       "    <tr>\n",
       "      <th>4</th>\n",
       "      <td>7798</td>\n",
       "      <td>0</td>\n",
       "      <td>68555</td>\n",
       "      <td>Block</td>\n",
       "      <td>20719.0</td>\n",
       "      <td>76729.0</td>\n",
       "      <td>72061</td>\n",
       "    </tr>\n",
       "  </tbody>\n",
       "</table>\n",
       "</div>"
      ],
      "text/plain": [
       "    index  SEVERITYCODE  WEATHER      ADDRTYPE  COLLISIONTYPE  ROADCOND  \\\n",
       "0   92223             0    68555         Block        20719.0   76729.0   \n",
       "1   64078             1    68555         Block        23041.0   76729.0   \n",
       "2  133642             0    68555  Intersection         4999.0   76729.0   \n",
       "3  107592             1    68555  Intersection         4999.0   76729.0   \n",
       "4    7798             0    68555         Block        20719.0   76729.0   \n",
       "\n",
       "   LIGHTCOND  \n",
       "0      72061  \n",
       "1      72061  \n",
       "2      72061  \n",
       "3      72061  \n",
       "4      72061  "
      ]
     },
     "execution_count": 33,
     "metadata": {},
     "output_type": "execute_result"
    }
   ],
   "source": [
    "df_new.head()"
   ]
  },
  {
   "cell_type": "code",
   "execution_count": 34,
   "metadata": {},
   "outputs": [
    {
     "data": {
      "text/html": [
       "<div>\n",
       "<style scoped>\n",
       "    .dataframe tbody tr th:only-of-type {\n",
       "        vertical-align: middle;\n",
       "    }\n",
       "\n",
       "    .dataframe tbody tr th {\n",
       "        vertical-align: top;\n",
       "    }\n",
       "\n",
       "    .dataframe thead th {\n",
       "        text-align: right;\n",
       "    }\n",
       "</style>\n",
       "<table border=\"1\" class=\"dataframe\">\n",
       "  <thead>\n",
       "    <tr style=\"text-align: right;\">\n",
       "      <th></th>\n",
       "      <th>index</th>\n",
       "      <th>Alley</th>\n",
       "      <th>Block</th>\n",
       "      <th>Intersection</th>\n",
       "    </tr>\n",
       "  </thead>\n",
       "  <tbody>\n",
       "    <tr>\n",
       "      <th>0</th>\n",
       "      <td>92223</td>\n",
       "      <td>0</td>\n",
       "      <td>1</td>\n",
       "      <td>0</td>\n",
       "    </tr>\n",
       "    <tr>\n",
       "      <th>1</th>\n",
       "      <td>64078</td>\n",
       "      <td>0</td>\n",
       "      <td>1</td>\n",
       "      <td>0</td>\n",
       "    </tr>\n",
       "    <tr>\n",
       "      <th>2</th>\n",
       "      <td>133642</td>\n",
       "      <td>0</td>\n",
       "      <td>0</td>\n",
       "      <td>1</td>\n",
       "    </tr>\n",
       "  </tbody>\n",
       "</table>\n",
       "</div>"
      ],
      "text/plain": [
       "    index  Alley  Block  Intersection\n",
       "0   92223      0      1             0\n",
       "1   64078      0      1             0\n",
       "2  133642      0      0             1"
      ]
     },
     "execution_count": 34,
     "metadata": {},
     "output_type": "execute_result"
    }
   ],
   "source": [
    "addr_dummy=addr_dummy.reset_index()\n",
    "addr_dummy.head(3)"
   ]
  },
  {
   "cell_type": "code",
   "execution_count": 35,
   "metadata": {},
   "outputs": [
    {
     "data": {
      "text/html": [
       "<div>\n",
       "<style scoped>\n",
       "    .dataframe tbody tr th:only-of-type {\n",
       "        vertical-align: middle;\n",
       "    }\n",
       "\n",
       "    .dataframe tbody tr th {\n",
       "        vertical-align: top;\n",
       "    }\n",
       "\n",
       "    .dataframe thead th {\n",
       "        text-align: right;\n",
       "    }\n",
       "</style>\n",
       "<table border=\"1\" class=\"dataframe\">\n",
       "  <thead>\n",
       "    <tr style=\"text-align: right;\">\n",
       "      <th></th>\n",
       "      <th>Alley</th>\n",
       "      <th>Block</th>\n",
       "      <th>Intersection</th>\n",
       "    </tr>\n",
       "  </thead>\n",
       "  <tbody>\n",
       "    <tr>\n",
       "      <th>0</th>\n",
       "      <td>0</td>\n",
       "      <td>1</td>\n",
       "      <td>0</td>\n",
       "    </tr>\n",
       "    <tr>\n",
       "      <th>1</th>\n",
       "      <td>0</td>\n",
       "      <td>1</td>\n",
       "      <td>0</td>\n",
       "    </tr>\n",
       "    <tr>\n",
       "      <th>2</th>\n",
       "      <td>0</td>\n",
       "      <td>0</td>\n",
       "      <td>1</td>\n",
       "    </tr>\n",
       "  </tbody>\n",
       "</table>\n",
       "</div>"
      ],
      "text/plain": [
       "   Alley  Block  Intersection\n",
       "0      0      1             0\n",
       "1      0      1             0\n",
       "2      0      0             1"
      ]
     },
     "execution_count": 35,
     "metadata": {},
     "output_type": "execute_result"
    }
   ],
   "source": [
    "addr_dummy.drop('index',axis=1,inplace=True)\n",
    "addr_dummy.head(3)"
   ]
  },
  {
   "cell_type": "code",
   "execution_count": 36,
   "metadata": {},
   "outputs": [
    {
     "data": {
      "text/html": [
       "<div>\n",
       "<style scoped>\n",
       "    .dataframe tbody tr th:only-of-type {\n",
       "        vertical-align: middle;\n",
       "    }\n",
       "\n",
       "    .dataframe tbody tr th {\n",
       "        vertical-align: top;\n",
       "    }\n",
       "\n",
       "    .dataframe thead th {\n",
       "        text-align: right;\n",
       "    }\n",
       "</style>\n",
       "<table border=\"1\" class=\"dataframe\">\n",
       "  <thead>\n",
       "    <tr style=\"text-align: right;\">\n",
       "      <th></th>\n",
       "      <th>index</th>\n",
       "      <th>SEVERITYCODE</th>\n",
       "      <th>WEATHER</th>\n",
       "      <th>ADDRTYPE</th>\n",
       "      <th>COLLISIONTYPE</th>\n",
       "      <th>ROADCOND</th>\n",
       "      <th>LIGHTCOND</th>\n",
       "    </tr>\n",
       "  </thead>\n",
       "  <tbody>\n",
       "    <tr>\n",
       "      <th>0</th>\n",
       "      <td>92223</td>\n",
       "      <td>0</td>\n",
       "      <td>68555</td>\n",
       "      <td>Block</td>\n",
       "      <td>20719.0</td>\n",
       "      <td>76729.0</td>\n",
       "      <td>72061</td>\n",
       "    </tr>\n",
       "    <tr>\n",
       "      <th>1</th>\n",
       "      <td>64078</td>\n",
       "      <td>1</td>\n",
       "      <td>68555</td>\n",
       "      <td>Block</td>\n",
       "      <td>23041.0</td>\n",
       "      <td>76729.0</td>\n",
       "      <td>72061</td>\n",
       "    </tr>\n",
       "    <tr>\n",
       "      <th>2</th>\n",
       "      <td>133642</td>\n",
       "      <td>0</td>\n",
       "      <td>68555</td>\n",
       "      <td>Intersection</td>\n",
       "      <td>4999.0</td>\n",
       "      <td>76729.0</td>\n",
       "      <td>72061</td>\n",
       "    </tr>\n",
       "    <tr>\n",
       "      <th>3</th>\n",
       "      <td>107592</td>\n",
       "      <td>1</td>\n",
       "      <td>68555</td>\n",
       "      <td>Intersection</td>\n",
       "      <td>4999.0</td>\n",
       "      <td>76729.0</td>\n",
       "      <td>72061</td>\n",
       "    </tr>\n",
       "    <tr>\n",
       "      <th>4</th>\n",
       "      <td>7798</td>\n",
       "      <td>0</td>\n",
       "      <td>68555</td>\n",
       "      <td>Block</td>\n",
       "      <td>20719.0</td>\n",
       "      <td>76729.0</td>\n",
       "      <td>72061</td>\n",
       "    </tr>\n",
       "  </tbody>\n",
       "</table>\n",
       "</div>"
      ],
      "text/plain": [
       "    index  SEVERITYCODE  WEATHER      ADDRTYPE  COLLISIONTYPE  ROADCOND  \\\n",
       "0   92223             0    68555         Block        20719.0   76729.0   \n",
       "1   64078             1    68555         Block        23041.0   76729.0   \n",
       "2  133642             0    68555  Intersection         4999.0   76729.0   \n",
       "3  107592             1    68555  Intersection         4999.0   76729.0   \n",
       "4    7798             0    68555         Block        20719.0   76729.0   \n",
       "\n",
       "   LIGHTCOND  \n",
       "0      72061  \n",
       "1      72061  \n",
       "2      72061  \n",
       "3      72061  \n",
       "4      72061  "
      ]
     },
     "execution_count": 36,
     "metadata": {},
     "output_type": "execute_result"
    }
   ],
   "source": [
    "df_new.head()"
   ]
  },
  {
   "cell_type": "code",
   "execution_count": 37,
   "metadata": {},
   "outputs": [],
   "source": [
    "df_new2=pd.concat([df_new,addr_dummy],axis=1)"
   ]
  },
  {
   "cell_type": "code",
   "execution_count": 38,
   "metadata": {},
   "outputs": [
    {
     "data": {
      "text/html": [
       "<div>\n",
       "<style scoped>\n",
       "    .dataframe tbody tr th:only-of-type {\n",
       "        vertical-align: middle;\n",
       "    }\n",
       "\n",
       "    .dataframe tbody tr th {\n",
       "        vertical-align: top;\n",
       "    }\n",
       "\n",
       "    .dataframe thead th {\n",
       "        text-align: right;\n",
       "    }\n",
       "</style>\n",
       "<table border=\"1\" class=\"dataframe\">\n",
       "  <thead>\n",
       "    <tr style=\"text-align: right;\">\n",
       "      <th></th>\n",
       "      <th>index</th>\n",
       "      <th>SEVERITYCODE</th>\n",
       "      <th>WEATHER</th>\n",
       "      <th>COLLISIONTYPE</th>\n",
       "      <th>ROADCOND</th>\n",
       "      <th>LIGHTCOND</th>\n",
       "      <th>Alley</th>\n",
       "      <th>Block</th>\n",
       "      <th>Intersection</th>\n",
       "    </tr>\n",
       "  </thead>\n",
       "  <tbody>\n",
       "    <tr>\n",
       "      <th>0</th>\n",
       "      <td>92223</td>\n",
       "      <td>0</td>\n",
       "      <td>68555</td>\n",
       "      <td>20719.0</td>\n",
       "      <td>76729.0</td>\n",
       "      <td>72061</td>\n",
       "      <td>0</td>\n",
       "      <td>1</td>\n",
       "      <td>0</td>\n",
       "    </tr>\n",
       "    <tr>\n",
       "      <th>1</th>\n",
       "      <td>64078</td>\n",
       "      <td>1</td>\n",
       "      <td>68555</td>\n",
       "      <td>23041.0</td>\n",
       "      <td>76729.0</td>\n",
       "      <td>72061</td>\n",
       "      <td>0</td>\n",
       "      <td>1</td>\n",
       "      <td>0</td>\n",
       "    </tr>\n",
       "    <tr>\n",
       "      <th>2</th>\n",
       "      <td>133642</td>\n",
       "      <td>0</td>\n",
       "      <td>68555</td>\n",
       "      <td>4999.0</td>\n",
       "      <td>76729.0</td>\n",
       "      <td>72061</td>\n",
       "      <td>0</td>\n",
       "      <td>0</td>\n",
       "      <td>1</td>\n",
       "    </tr>\n",
       "    <tr>\n",
       "      <th>3</th>\n",
       "      <td>107592</td>\n",
       "      <td>1</td>\n",
       "      <td>68555</td>\n",
       "      <td>4999.0</td>\n",
       "      <td>76729.0</td>\n",
       "      <td>72061</td>\n",
       "      <td>0</td>\n",
       "      <td>0</td>\n",
       "      <td>1</td>\n",
       "    </tr>\n",
       "    <tr>\n",
       "      <th>4</th>\n",
       "      <td>7798</td>\n",
       "      <td>0</td>\n",
       "      <td>68555</td>\n",
       "      <td>20719.0</td>\n",
       "      <td>76729.0</td>\n",
       "      <td>72061</td>\n",
       "      <td>0</td>\n",
       "      <td>1</td>\n",
       "      <td>0</td>\n",
       "    </tr>\n",
       "  </tbody>\n",
       "</table>\n",
       "</div>"
      ],
      "text/plain": [
       "    index  SEVERITYCODE  WEATHER  COLLISIONTYPE  ROADCOND  LIGHTCOND  Alley  \\\n",
       "0   92223             0    68555        20719.0   76729.0      72061      0   \n",
       "1   64078             1    68555        23041.0   76729.0      72061      0   \n",
       "2  133642             0    68555         4999.0   76729.0      72061      0   \n",
       "3  107592             1    68555         4999.0   76729.0      72061      0   \n",
       "4    7798             0    68555        20719.0   76729.0      72061      0   \n",
       "\n",
       "   Block  Intersection  \n",
       "0      1             0  \n",
       "1      1             0  \n",
       "2      0             1  \n",
       "3      0             1  \n",
       "4      1             0  "
      ]
     },
     "execution_count": 38,
     "metadata": {},
     "output_type": "execute_result"
    }
   ],
   "source": [
    "df_new2.drop('ADDRTYPE',axis=1,inplace=True)\n",
    "df_new2.head()"
   ]
  },
  {
   "cell_type": "code",
   "execution_count": 39,
   "metadata": {},
   "outputs": [],
   "source": [
    "df_new2.columns=[col.upper() for col in df_new2.columns]"
   ]
  },
  {
   "cell_type": "code",
   "execution_count": 40,
   "metadata": {},
   "outputs": [
    {
     "data": {
      "text/plain": [
       "Index(['INDEX', 'SEVERITYCODE', 'WEATHER', 'COLLISIONTYPE', 'ROADCOND',\n",
       "       'LIGHTCOND', 'ALLEY', 'BLOCK', 'INTERSECTION'],\n",
       "      dtype='object')"
      ]
     },
     "execution_count": 40,
     "metadata": {},
     "output_type": "execute_result"
    }
   ],
   "source": [
    "df_new2.columns"
   ]
  },
  {
   "cell_type": "code",
   "execution_count": 41,
   "metadata": {},
   "outputs": [
    {
     "name": "stdout",
     "output_type": "stream",
     "text": [
      "   WEATHER  COLLISIONTYPE  ROADCOND  LIGHTCOND  ALLEY  BLOCK  INTERSECTION\n",
      "0    68555        20719.0   76729.0      72061      0      1             0\n",
      "1    68555        23041.0   76729.0      72061      0      1             0\n",
      "2    68555         4999.0   76729.0      72061      0      0             1 0    0\n",
      "1    1\n",
      "2    0\n",
      "Name: SEVERITYCODE, dtype: int64\n"
     ]
    }
   ],
   "source": [
    "x_data=df_new2[['WEATHER', 'COLLISIONTYPE', 'ROADCOND',\n",
    "       'LIGHTCOND', 'ALLEY', 'BLOCK', 'INTERSECTION']]\n",
    "y_data=df_new2['SEVERITYCODE']\n",
    "print(x_data.head(3),y_data.head(3))"
   ]
  },
  {
   "cell_type": "code",
   "execution_count": 42,
   "metadata": {},
   "outputs": [],
   "source": [
    "from sklearn.model_selection import train_test_split\n",
    "from sklearn.preprocessing import StandardScaler"
   ]
  },
  {
   "cell_type": "markdown",
   "metadata": {},
   "source": [
    "<h4>Normalizing x_data </h4>"
   ]
  },
  {
   "cell_type": "code",
   "execution_count": 43,
   "metadata": {},
   "outputs": [],
   "source": [
    "s=StandardScaler()\n",
    "s.fit(x_data)\n",
    "x_scale=s.transform(x_data)"
   ]
  },
  {
   "cell_type": "code",
   "execution_count": 44,
   "metadata": {},
   "outputs": [
    {
     "data": {
      "text/plain": [
       "array([[ 0.80013996,  0.55103956,  0.67249689, ..., -0.03242808,\n",
       "         0.79020089, -0.788448  ],\n",
       "       [ 0.80013996,  0.88858629,  0.67249689, ..., -0.03242808,\n",
       "         0.79020089, -0.788448  ],\n",
       "       [ 0.80013996, -1.73416056,  0.67249689, ..., -0.03242808,\n",
       "        -1.26550097,  1.26831446],\n",
       "       ...,\n",
       "       [-1.21743433,  0.55103956,  0.67249689, ..., -0.03242808,\n",
       "         0.79020089, -0.788448  ],\n",
       "       [-1.21743433,  0.55103956,  0.67249689, ..., -0.03242808,\n",
       "         0.79020089, -0.788448  ],\n",
       "       [ 0.80013996, -1.56756772,  0.67249689, ..., -0.03242808,\n",
       "        -1.26550097,  1.26831446]])"
      ]
     },
     "execution_count": 44,
     "metadata": {},
     "output_type": "execute_result"
    }
   ],
   "source": [
    "x_scale"
   ]
  },
  {
   "cell_type": "markdown",
   "metadata": {},
   "source": [
    "<h3> Model Selection </h3>"
   ]
  },
  {
   "cell_type": "markdown",
   "metadata": {},
   "source": [
    "<h3> Decision Tree</h3>"
   ]
  },
  {
   "cell_type": "code",
   "execution_count": 45,
   "metadata": {},
   "outputs": [],
   "source": [
    "from sklearn.tree import DecisionTreeClassifier"
   ]
  },
  {
   "cell_type": "code",
   "execution_count": 46,
   "metadata": {},
   "outputs": [],
   "source": [
    "xtrain,xtest,ytrain,ytest=train_test_split(x_scale,y_data,test_size=0.2,random_state=1)"
   ]
  },
  {
   "cell_type": "code",
   "execution_count": 47,
   "metadata": {},
   "outputs": [
    {
     "data": {
      "text/plain": [
       "array([[-1.07291366,  0.88858629, -1.21970605, ..., -0.03242808,\n",
       "         0.79020089, -0.788448  ],\n",
       "       [ 0.80013996, -0.46130991,  0.67249689, ..., -0.03242808,\n",
       "         0.79020089, -0.788448  ],\n",
       "       [ 0.80013996,  0.87768362,  0.67249689, ..., -0.03242808,\n",
       "        -1.26550097,  1.26831446],\n",
       "       ...,\n",
       "       [ 0.80013996,  0.88858629,  0.67249689, ..., -0.03242808,\n",
       "         0.79020089, -0.788448  ],\n",
       "       [-1.07291366, -1.06793459, -1.21970605, ..., -0.03242808,\n",
       "         0.79020089, -0.788448  ],\n",
       "       [ 0.80013996,  0.87768362,  0.67249689, ..., -0.03242808,\n",
       "        -1.26550097,  1.26831446]])"
      ]
     },
     "execution_count": 47,
     "metadata": {},
     "output_type": "execute_result"
    }
   ],
   "source": [
    "xtrain"
   ]
  },
  {
   "cell_type": "code",
   "execution_count": 48,
   "metadata": {},
   "outputs": [
    {
     "data": {
      "text/plain": [
       "DecisionTreeClassifier(criterion='entropy', max_depth=10)"
      ]
     },
     "execution_count": 48,
     "metadata": {},
     "output_type": "execute_result"
    }
   ],
   "source": [
    "dt=DecisionTreeClassifier(criterion=\"entropy\",max_depth=10)\n",
    "dt.fit(xtrain,ytrain)"
   ]
  },
  {
   "cell_type": "code",
   "execution_count": 49,
   "metadata": {},
   "outputs": [],
   "source": [
    "yhat=dt.predict(xtest)"
   ]
  },
  {
   "cell_type": "code",
   "execution_count": 50,
   "metadata": {},
   "outputs": [
    {
     "name": "stdout",
     "output_type": "stream",
     "text": [
      "F1 Score: 0.6910356306565526\n",
      "Accuracy-Score: 0.6922805314030984\n"
     ]
    }
   ],
   "source": [
    "from sklearn import metrics\n",
    "from sklearn.metrics import f1_score\n",
    "#from sklearn.metrics import jaccard_similarity_score\n",
    "print('F1 Score:',f1_score(ytest,yhat,average='weighted'))\n",
    "print('Accuracy-Score:', metrics.accuracy_score(ytest,yhat))"
   ]
  },
  {
   "cell_type": "code",
   "execution_count": 51,
   "metadata": {},
   "outputs": [
    {
     "data": {
      "text/plain": [
       "array([0, 0, 1, 1, 1, 0, 1, 1, 1, 0], dtype=int64)"
      ]
     },
     "execution_count": 51,
     "metadata": {},
     "output_type": "execute_result"
    }
   ],
   "source": [
    "yhat[0:10]"
   ]
  },
  {
   "cell_type": "markdown",
   "metadata": {},
   "source": [
    "<h3>K-Nearest Neighbour </h3>"
   ]
  },
  {
   "cell_type": "code",
   "execution_count": 52,
   "metadata": {},
   "outputs": [
    {
     "name": "stdout",
     "output_type": "stream",
     "text": [
      "{1: 0.6373306262965088, 2: 0.6115107913669064, 3: 0.6287681511232731, 4: 0.6227655912080152, 5: 0.623030410027806, 6: 0.6299156993423666, 7: 0.651763251975107, 8: 0.6488943814273734, 9: 0.6491150637771991}\n"
     ]
    }
   ],
   "source": [
    "from sklearn.neighbors import KNeighborsClassifier\n",
    "li={}\n",
    "for k in range(1,10):\n",
    "    neig=KNeighborsClassifier(n_neighbors=k).fit(xtrain,ytrain)\n",
    "    yhat=neig.predict(xtest)\n",
    "    acc_score=metrics.accuracy_score(ytest,yhat)\n",
    "    li[k]=acc_score\n",
    "print(li)"
   ]
  },
  {
   "cell_type": "code",
   "execution_count": 53,
   "metadata": {},
   "outputs": [
    {
     "data": {
      "text/plain": [
       "7"
      ]
     },
     "execution_count": 53,
     "metadata": {},
     "output_type": "execute_result"
    }
   ],
   "source": [
    "best_k = max(li, key=li.get)\n",
    "best_k"
   ]
  },
  {
   "cell_type": "code",
   "execution_count": 54,
   "metadata": {},
   "outputs": [
    {
     "name": "stdout",
     "output_type": "stream",
     "text": [
      "Best K for KNN model : 7 \n",
      "Corresponding Accuracy: 0.651763251975107\n"
     ]
    }
   ],
   "source": [
    "neig=KNeighborsClassifier(n_neighbors=best_k).fit(xtrain,ytrain)\n",
    "yhat=neig.predict(xtest)\n",
    "print('Best K for KNN model :',best_k,\n",
    "      '\\nCorresponding Accuracy:',metrics.accuracy_score(ytest,yhat))"
   ]
  },
  {
   "cell_type": "markdown",
   "metadata": {},
   "source": [
    "<h3>Logistic Regression</h3>"
   ]
  },
  {
   "cell_type": "code",
   "execution_count": 55,
   "metadata": {},
   "outputs": [],
   "source": [
    "from sklearn.linear_model import LogisticRegression\n",
    "lr=LogisticRegression()\n",
    "lr.fit(xtrain,ytrain)\n",
    "yhat=lr.predict(xtest)"
   ]
  },
  {
   "cell_type": "code",
   "execution_count": 56,
   "metadata": {},
   "outputs": [
    {
     "name": "stdout",
     "output_type": "stream",
     "text": [
      "f1 score: 0.5764662212323681\n",
      "Accuracy score: 0.5971223021582733\n"
     ]
    }
   ],
   "source": [
    "print('f1 score:',metrics.f1_score(ytest,yhat))\n",
    "print('Accuracy score:',metrics.accuracy_score(ytest,yhat))"
   ]
  },
  {
   "cell_type": "markdown",
   "metadata": {},
   "source": [
    "<h3>Support Vector Machines (SVM)</h3>"
   ]
  },
  {
   "cell_type": "code",
   "execution_count": 57,
   "metadata": {},
   "outputs": [],
   "source": [
    "from sklearn import svm\n",
    "clf=svm.SVC(kernel='rbf')\n",
    "clf.fit(xtrain,ytrain)\n",
    "yhat_svm=clf.predict(xtest)"
   ]
  },
  {
   "cell_type": "code",
   "execution_count": 58,
   "metadata": {},
   "outputs": [
    {
     "name": "stdout",
     "output_type": "stream",
     "text": [
      "Classification Report:\n",
      "               precision    recall  f1-score   support\n",
      "\n",
      "           0       0.73      0.48      0.58     11292\n",
      "           1       0.61      0.83      0.71     11365\n",
      "\n",
      "    accuracy                           0.65     22657\n",
      "   macro avg       0.67      0.65      0.64     22657\n",
      "weighted avg       0.67      0.65      0.64     22657\n",
      "\n"
     ]
    }
   ],
   "source": [
    "from sklearn.metrics import classification_report,confusion_matrix\n",
    "import itertools\n",
    "cnf=confusion_matrix(ytest,yhat_svm)\n",
    "np.set_printoptions(precision=2)\n",
    "print('Classification Report:\\n',classification_report(ytest,yhat_svm))"
   ]
  },
  {
   "cell_type": "code",
   "execution_count": 59,
   "metadata": {},
   "outputs": [
    {
     "name": "stdout",
     "output_type": "stream",
     "text": [
      "f1 score: 0.7058867613444748\n"
     ]
    }
   ],
   "source": [
    "print('f1 score:' , metrics.f1_score(ytest,yhat_svm))"
   ]
  },
  {
   "cell_type": "code",
   "execution_count": 60,
   "metadata": {},
   "outputs": [
    {
     "name": "stdout",
     "output_type": "stream",
     "text": [
      "Accuracy_score: 0.6535728472436775\n"
     ]
    }
   ],
   "source": [
    "print('Accuracy_score:',metrics.accuracy_score(ytest,yhat_svm))"
   ]
  }
 ],
 "metadata": {
  "kernelspec": {
   "display_name": "Python 3",
   "language": "python",
   "name": "python3"
  },
  "language_info": {
   "codemirror_mode": {
    "name": "ipython",
    "version": 3
   },
   "file_extension": ".py",
   "mimetype": "text/x-python",
   "name": "python",
   "nbconvert_exporter": "python",
   "pygments_lexer": "ipython3",
   "version": "3.8.3"
  }
 },
 "nbformat": 4,
 "nbformat_minor": 4
}
