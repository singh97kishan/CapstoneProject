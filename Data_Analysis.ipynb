{
 "cells": [
  {
   "cell_type": "markdown",
   "metadata": {},
   "source": [
    "# Data Analysis"
   ]
  },
  {
   "cell_type": "markdown",
   "metadata": {},
   "source": [
    "### We have used the Seattle Collision dataset."
   ]
  },
  {
   "cell_type": "markdown",
   "metadata": {},
   "source": [
    "<p>Dataset contains several attributes such as:\n",
    "  <ol>\n",
    "      <li>SEVERITYCODE</li>\n",
    "      <li>X</li>\n",
    "      <li>Y</li>\n",
    "      <li>OBJECTID</li>\n",
    "      <li>INCKEY</li>\n",
    "      <li>COLDETKEY</li>\n",
    "      <li>REPORTNO</li>\n",
    "      <li>STATUS</li>\n",
    "      <li>ADDRTYPE</li>\n",
    "      <li>INTKEY</li>\n",
    "      <li>LOCATION</li>\n",
    "      <li>EXCEPTRSNCODE</li>\n",
    "      <li>EXCEPTRSNDESC</li>\n",
    "      <li>SEVERITYCODE.1</li>\n",
    "      <li>SEVERITYDESC</li>\n",
    "      <li>COLLISIONTYPE</li>\n",
    "      <li>PERSONCOUNT</li>\n",
    "      <li>PEDCOUNT</li>\n",
    "      <li>PEDCYLCOUNT</li>\n",
    "      <li>VEHCOUNT</li>\n",
    "      <li>INCDATE</li>\n",
    "      <li>INCDTTM</li>\n",
    "      <li>JUNCTIONTYPE</li>\n",
    "      <li>SDOT_COLCODE</li>\n",
    "      <li>SDOR_COLDESC</li>\n",
    "      <li>INATTENTIONIND</li>\n",
    "      <li>UNDERINFL</li>\n",
    "      <li>WEATHER</li>\n",
    "      <li>ROADCOND</li>\n",
    "      <li>LIGHTCOND</li>\n",
    "      <li>PEDROWNOTGRNT</li>\n",
    "      <li>SDOTCOLUMN</li>\n",
    "      <li>SPEEDING</li>\n",
    "      <li>ST_COLCODE</li>\n",
    "      <li>ST_COLDESC</li>\n",
    "      <li>SEGLANEKEY</li>\n",
    "      <li>CROSSWALKKEY</li>\n",
    "      <li>HITPARKEDCAR</li>\n",
    "      </ol>\n",
    "</p>"
   ]
  },
  {
   "cell_type": "markdown",
   "metadata": {},
   "source": [
    "<p>Our predictor or target variable will be <b>'SEVERITYCODE'</b> because it is used to measure the severity of an accident i.e., 0/1 within the dataset.</p>\n",
    "<ul><li>0 - Property damage only.</li>\n",
    "    <li>1- Severe Injury </li>\n",
    "    </ul>"
   ]
  },
  {
   "cell_type": "markdown",
   "metadata": {},
   "source": [
    "<p>Attributes used to weigh the severity of an accident are <b>' WEATHER '</b>, <b>' ROADCOND '</b>,<b> ' ADDRTYPE ' </b>,<b>'COLLISIONTYPE'</b> and <b>'LIGHTCOND'</b>.</p>"
   ]
  },
  {
   "cell_type": "markdown",
   "metadata": {},
   "source": [
    "<h3>Extract Dataset & Convert</h3>\n",
    "\n",
    "\n",
    "<p>In it's original form, this data is not fit for analysis. For one, there are many columns that we will not use for this model. Also, most of the features are of type object, when they should be numerical type.</p>"
   ]
  },
  {
   "cell_type": "markdown",
   "metadata": {},
   "source": [
    "<p>We will use following encoding techniques to covert the categorical features of our dataset in order to get some insights:</p>\n",
    "<ol><li>One Hot Encoding</li>\n",
    "    <li>Frequency Count Encoding</li>\n",
    "    </ol>"
   ]
  },
  {
   "cell_type": "code",
   "execution_count": null,
   "metadata": {},
   "outputs": [],
   "source": []
  }
 ],
 "metadata": {
  "kernelspec": {
   "display_name": "Python 3",
   "language": "python",
   "name": "python3"
  },
  "language_info": {
   "codemirror_mode": {
    "name": "ipython",
    "version": 3
   },
   "file_extension": ".py",
   "mimetype": "text/x-python",
   "name": "python",
   "nbconvert_exporter": "python",
   "pygments_lexer": "ipython3",
   "version": "3.8.3"
  }
 },
 "nbformat": 4,
 "nbformat_minor": 4
}
